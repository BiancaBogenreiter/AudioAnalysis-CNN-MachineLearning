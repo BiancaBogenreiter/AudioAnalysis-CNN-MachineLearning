{
 "cells": [
  {
   "cell_type": "code",
   "execution_count": null,
   "id": "e1432290-4954-4290-a1c7-367852ec31c5",
   "metadata": {},
   "outputs": [],
   "source": [
    "#!pip install tensorflow==2.11.0 tensorflow-io==0.31.0 matplotlib pydub --quiet"
   ]
  },
  {
   "cell_type": "code",
   "execution_count": null,
   "id": "3658c72e-2550-4b5f-9074-973be4a16479",
   "metadata": {},
   "outputs": [],
   "source": [
    "# Import necessary libraries\n",
    "from pathlib import Path\n",
    "import tensorflow as tf\n",
    "import tensorflow_io as tfio\n",
    "from tensorflow.keras.utils import to_categorical\n",
    "from tensorflow.keras.models import Sequential\n",
    "from tensorflow.keras.layers import Conv2D, Dense, Flatten\n",
    "from matplotlib import pyplot as plt\n",
    "\n",
    "# Define constants\n",
    "FRAME_LENGTH = 320\n",
    "FRAME_STEP = 32\n",
    "MAX_LENGTH = 48000\n",
    "BATCH_SIZE = 8"
   ]
  },
  {
   "cell_type": "code",
   "execution_count": null,
   "id": "e3b7848a-59c7-40d1-b11a-c195ca885608",
   "metadata": {},
   "outputs": [],
   "source": [
    "# Function to normalize audio\n",
    "def normalize_audio(audio):\n",
    "    max_amplitude = tf.reduce_max(tf.abs(audio))\n",
    "    normalized_audio = audio / max_amplitude\n",
    "    return normalized_audio\n",
    "\n",
    "# Function to load WAV file and normalize audio\n",
    "def load_wav_16k_mono(filename):\n",
    "    file_contents = tf.io.read_file(filename)\n",
    "    wav, sample_rate = tf.audio.decode_wav(file_contents, desired_channels=1)\n",
    "    wav = tf.squeeze(wav, axis=-1)\n",
    "    sample_rate = tf.cast(sample_rate, dtype=tf.int64)\n",
    "    wav = tfio.audio.resample(wav, rate_in=sample_rate, rate_out=16000)\n",
    "    return normalize_audio(wav)\n",
    "\n",
    "# Function for dynamic padding\n",
    "def dynamic_padding(audio, max_length=MAX_LENGTH):\n",
    "    audio_length = tf.shape(audio)[0]\n",
    "    padding = tf.maximum(0, max_length - audio_length)\n",
    "    audio = tf.pad(audio, [[0, padding]])\n",
    "    return audio[:max_length]\n",
    "\n",
    "# Function for preprocessing\n",
    "def preprocess(file_path, label):\n",
    "    wav = load_wav_16k_mono(file_path)\n",
    "    wav = dynamic_padding(wav)\n",
    "    spectrogram = tf.signal.stft(wav, frame_length=FRAME_LENGTH, frame_step=FRAME_STEP)\n",
    "    spectrogram = tf.abs(spectrogram)\n",
    "    spectrogram = tf.expand_dims(spectrogram, axis=2)\n",
    "    return spectrogram, label"
   ]
  },
  {
   "cell_type": "code",
   "execution_count": null,
   "id": "2a18ba0a-74a9-4cf7-be15-310f85d68e8b",
   "metadata": {},
   "outputs": [],
   "source": [
    "# Define paths using pathlib\n",
    "Filepath_TS2_4 = Path('data') / '2_4'\n",
    "Filepath_TS3_4 = Path('data') / '3_4'\n",
    "Filepath_TS4_4 = Path('data') / '4_4'\n",
    "\n",
    "# Create TensorFlow datasets\n",
    "Dataset_TS2_4 = tf.data.Dataset.list_files(str(Filepath_TS2_4 / '*.wav'))\n",
    "Dataset_TS3_4 = tf.data.Dataset.list_files(str(Filepath_TS3_4 / '*.wav'))\n",
    "Dataset_TS4_4 = tf.data.Dataset.list_files(str(Filepath_TS4_4 / '*.wav'))\n",
    "\n",
    "# Create labels for each dataset\n",
    "labels_2_4 = tf.constant([0] * len(Dataset_TS2_4))\n",
    "labels_3_4 = tf.constant([1] * len(Dataset_TS3_4))\n",
    "labels_4_4 = tf.constant([2] * len(Dataset_TS4_4))\n",
    "\n",
    "# One-hot encode the labels\n",
    "labels_2_4 = to_categorical(labels_2_4, num_classes=3)\n",
    "labels_3_4 = to_categorical(labels_3_4, num_classes=3)\n",
    "labels_4_4 = to_categorical(labels_4_4, num_classes=3)\n",
    "\n",
    "# Create the datasets\n",
    "TS2_4 = tf.data.Dataset.zip((Dataset_TS2_4, tf.data.Dataset.from_tensor_slices(labels_2_4)))\n",
    "TS3_4 = tf.data.Dataset.zip((Dataset_TS3_4, tf.data.Dataset.from_tensor_slices(labels_3_4)))\n",
    "TS4_4 = tf.data.Dataset.zip((Dataset_TS4_4, tf.data.Dataset.from_tensor_slices(labels_4_4)))\n",
    "\n",
    "# Concatenate the datasets\n",
    "data_all = TS2_4.concatenate(TS3_4).concatenate(TS4_4)"
   ]
  },
  {
   "cell_type": "code",
   "execution_count": null,
   "id": "5cbaea4e-7e04-4d9b-a7b9-76373b2291d3",
   "metadata": {},
   "outputs": [],
   "source": [
    "# Create TensorFlow data pipeline\n",
    "data = data_all.map(preprocess)\n",
    "data = data.cache()\n",
    "data = data.shuffle(buffer_size=1000)\n",
    "data = data.batch(BATCH_SIZE)\n",
    "data = data.prefetch(2)\n",
    "\n",
    "# Split into training and testing partitions\n",
    "total_samples = data.cardinality().numpy()\n",
    "train_ratio = 0.7\n",
    "test_ratio = 0.3\n",
    "train_size = int(train_ratio * total_samples)\n",
    "test_size = int(test_ratio * total_samples)\n",
    "train_data = data.take(train_size)\n",
    "test_data = data.skip(train_size).take(test_size)"
   ]
  },
  {
   "cell_type": "code",
   "execution_count": null,
   "id": "a8141086-aadc-421b-a6ea-267fca4ec8f7",
   "metadata": {
    "tags": []
   },
   "outputs": [],
   "source": [
    "# samples, labels = train_data.as_numpy_iterator().next()\n",
    "# samples.shape"
   ]
  },
  {
   "cell_type": "code",
   "execution_count": null,
   "id": "73c9d6dc-2790-4849-9f53-36b252435b8e",
   "metadata": {
    "tags": []
   },
   "outputs": [],
   "source": [
    "# Build deep learning model\n",
    "model = Sequential()\n",
    "model.add(Conv2D(16, (3, 3), activation='relu', input_shape=(1491, 257, 1)))\n",
    "model.add(Conv2D(8, (3, 3), activation='relu', padding='same'))\n",
    "model.add(Flatten())\n",
    "model.add(Dense(128, activation='relu'))\n",
    "model.add(Dense(3, activation='softmax'))\n",
    "\n",
    "model.compile(optimizer='Adam', loss='categorical_crossentropy', \n",
    "              metrics=['accuracy', \n",
    "                       tf.keras.metrics.Precision(),\n",
    "                       tf.keras.metrics.Recall()])\n",
    "\n",
    "model.summary()"
   ]
  },
  {
   "cell_type": "code",
   "execution_count": null,
   "id": "af7e4ab8-64b3-40c3-9c7d-0778a25c160e",
   "metadata": {
    "tags": []
   },
   "outputs": [],
   "source": [
    "# Fit the model\n",
    "hist = model.fit(train_data, epochs=10, validation_data=test_data)"
   ]
  },
  {
   "cell_type": "code",
   "execution_count": null,
   "id": "36eceae2-205e-4f5b-8142-84eec42db599",
   "metadata": {},
   "outputs": [],
   "source": [
    "# Plot training history\n",
    "plt.figure(figsize=(12, 8))\n",
    "\n",
    "# Plot Loss\n",
    "plt.subplot(2, 2, 1)\n",
    "plt.plot(hist.history['loss'], label='Training Loss')\n",
    "plt.plot(hist.history['val_loss'], label='Validation Loss')\n",
    "plt.title('Loss')\n",
    "plt.xlabel('Epoch')\n",
    "plt.ylabel('Loss')\n",
    "plt.legend()\n",
    "\n",
    "# Plot Accuracy\n",
    "plt.subplot(2, 2, 2)\n",
    "plt.plot(hist.history['accuracy'], label='Training Accuracy')\n",
    "plt.plot(hist.history['val_accuracy'], label='Validation Accuracy')\n",
    "plt.title('Accuracy')\n",
    "plt.xlabel('Epoch')\n",
    "plt.ylabel('Accuracy')\n",
    "plt.legend()\n",
    "\n",
    "# Plot Precision\n",
    "plt.subplot(2, 2, 3)\n",
    "plt.plot(hist.history['precision'], label='Training Precision')\n",
    "plt.plot(hist.history['val_precision'], label='Validation Precision')\n",
    "plt.title('Precision')\n",
    "plt.xlabel('Epoch')\n",
    "plt.ylabel('Precision')\n",
    "plt.legend()\n",
    "\n",
    "# Plot Recall\n",
    "plt.subplot(2, 2, 4)\n",
    "plt.plot(hist.history['recall'], label='Training Recall')\n",
    "plt.plot(hist.history['val_recall'], label='Validation Recall')\n",
    "plt.title('Recall')\n",
    "plt.xlabel('Epoch')\n",
    "plt.ylabel('Recall')\n",
    "plt.legend()\n",
    "\n",
    "plt.tight_layout()\n",
    "plt.show()"
   ]
  },
  {
   "cell_type": "code",
   "execution_count": null,
   "id": "9a39c38a-8a05-4472-ae7d-20b1cf39ca4d",
   "metadata": {},
   "outputs": [],
   "source": [
    "#Save the model\n",
    "model.save(r'C:\\Users\\bianc\\Desktop')"
   ]
  }
 ],
 "metadata": {
  "kernelspec": {
   "display_name": "Python 3 (ipykernel)",
   "language": "python",
   "name": "python3"
  },
  "language_info": {
   "codemirror_mode": {
    "name": "ipython",
    "version": 3
   },
   "file_extension": ".py",
   "mimetype": "text/x-python",
   "name": "python",
   "nbconvert_exporter": "python",
   "pygments_lexer": "ipython3",
   "version": "3.9.2"
  }
 },
 "nbformat": 4,
 "nbformat_minor": 5
}
