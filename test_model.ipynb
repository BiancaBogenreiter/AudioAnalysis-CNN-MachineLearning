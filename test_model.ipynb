{
 "cells": [
  {
   "cell_type": "code",
   "execution_count": null,
   "id": "0f5bfed9-e1a8-44b5-96aa-06e8c63de1cd",
   "metadata": {},
   "outputs": [],
   "source": [
    "# Import necessary libraries\n",
    "import os\n",
    "import tensorflow as tf\n",
    "import tensorflow_io as tfio\n",
    "import numpy as np\n",
    "from collections import Counter"
   ]
  },
  {
   "cell_type": "code",
   "execution_count": null,
   "id": "367f9f86-3fa4-4543-8986-d7049520190d",
   "metadata": {},
   "outputs": [],
   "source": [
    "# Function for preprocessing MP3 files\n",
    "def load_mp3_16k_mono(filename):\n",
    "    res = tfio.audio.AudioIOTensor(filename)\n",
    "    tensor = res.to_tensor()\n",
    "    tensor = tf.math.reduce_sum(tensor, axis=1) / 2\n",
    "    sample_rate = res.rate\n",
    "    sample_rate = tf.cast(sample_rate, dtype=tf.int64)\n",
    "    wav = tfio.audio.resample(tensor, rate_in=sample_rate, rate_out=16000)\n",
    "    return wav\n",
    "\n",
    "# Function for converting clips into windowed spectrograms\n",
    "def preprocess_mp3(sample, index):\n",
    "    sample = sample[0]\n",
    "    zero_padding = tf.zeros([48000] - tf.shape(sample), dtype=tf.float32)\n",
    "    wav = tf.concat([zero_padding, sample],0)\n",
    "    spectrogram = tf.signal.stft(wav, frame_length=320, frame_step=32)\n",
    "    spectrogram = tf.abs(spectrogram)\n",
    "    spectrogram = tf.expand_dims(spectrogram, axis=2)\n",
    "    return spectrogram"
   ]
  },
  {
   "cell_type": "code",
   "execution_count": null,
   "id": "7cc50557-5781-419b-8e0d-f885325696f0",
   "metadata": {},
   "outputs": [],
   "source": [
    "# Load the model\n",
    "model_path = (r'C:\\Users\\bianc\\Desktop\\Model')\n",
    "model = tf.keras.models.load_model(model_path)"
   ]
  },
  {
   "cell_type": "code",
   "execution_count": null,
   "id": "55fe74e7-1310-46ec-af42-eeeb5aa8280f",
   "metadata": {},
   "outputs": [],
   "source": [
    "results = {}\n",
    "# Iterate through the audio files in the specified directory\n",
    "for file in os.listdir(os.path.join('data', 'testfiles')):\n",
    "    FILEPATH = os.path.join('data','testfiles', file)\n",
    "    # Load the MP3 file and process it\n",
    "    wav = load_mp3_16k_mono(FILEPATH)\n",
    "    audio_slices = tf.keras.utils.timeseries_dataset_from_array(wav, wav, sequence_length=48000, sequence_stride=48000, batch_size=1)\n",
    "    audio_slices = audio_slices.map(preprocess_mp3)\n",
    "    audio_slices = audio_slices.batch(64)\n",
    "    # Make predictions for the audio slices\n",
    "    y_predicted_probabilities = model.predict(audio_slices)\n",
    "    # Store the predicted probabilities for this file\n",
    "    results[file] = y_predicted_probabilities\n",
    "\n",
    "\n",
    "class_preds = {}\n",
    "# Iterate through the results and determine the class predictions\n",
    "for file, y_predicted_probabilities in results.items():\n",
    "    class_preds[file] = [np.argmax(probabilities) for probabilities in y_predicted_probabilities]\n",
    "\n",
    "\n",
    "postprocessed = {}\n",
    "for file, scores in class_preds.items():\n",
    "    data = Counter(scores)\n",
    "    postprocessed[file] = data.most_common(1)[0][0]\n",
    "postprocessed"
   ]
  }
 ],
 "metadata": {
  "kernelspec": {
   "display_name": "Python 3 (ipykernel)",
   "language": "python",
   "name": "python3"
  },
  "language_info": {
   "codemirror_mode": {
    "name": "ipython",
    "version": 3
   },
   "file_extension": ".py",
   "mimetype": "text/x-python",
   "name": "python",
   "nbconvert_exporter": "python",
   "pygments_lexer": "ipython3",
   "version": "3.9.2"
  }
 },
 "nbformat": 4,
 "nbformat_minor": 5
}
